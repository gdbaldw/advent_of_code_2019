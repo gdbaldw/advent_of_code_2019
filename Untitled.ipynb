{
 "cells": [
  {
   "cell_type": "markdown",
   "metadata": {},
   "source": [
    "# Advent of Code 2019"
   ]
  },
  {
   "cell_type": "markdown",
   "metadata": {},
   "source": [
    "## Day 1"
   ]
  },
  {
   "cell_type": "code",
   "execution_count": 1,
   "metadata": {},
   "outputs": [
    {
     "data": {
      "text/plain": [
       "3465154"
      ]
     },
     "execution_count": 1,
     "metadata": {},
     "output_type": "execute_result"
    }
   ],
   "source": [
    "f = open('input_01.txt')\n",
    "\n",
    "sum([int(v)//3 - 2 for v in f])"
   ]
  },
  {
   "cell_type": "code",
   "execution_count": 2,
   "metadata": {},
   "outputs": [
    {
     "data": {
      "text/plain": [
       "5194864"
      ]
     },
     "execution_count": 2,
     "metadata": {},
     "output_type": "execute_result"
    }
   ],
   "source": [
    "f = open('input_01.txt')\n",
    "\n",
    "gt = 0\n",
    "for v in (int(v)//3 - 2 for v in f):\n",
    "    while 0 < v:\n",
    "        gt += v\n",
    "        v = v//3 - 2\n",
    "gt"
   ]
  },
  {
   "cell_type": "markdown",
   "metadata": {},
   "source": [
    "## Day 2"
   ]
  },
  {
   "cell_type": "code",
   "execution_count": 3,
   "metadata": {},
   "outputs": [
    {
     "data": {
      "text/plain": [
       "6327510"
      ]
     },
     "execution_count": 3,
     "metadata": {},
     "output_type": "execute_result"
    }
   ],
   "source": [
    "f = open('input_02.txt')\n",
    "a = [int(v) for v in f.read().split(',')]\n",
    "\n",
    "def comp(a, noun=12, verb=2):\n",
    "    a[1] = noun\n",
    "    a[2] = verb\n",
    "    i = 0\n",
    "    while a[i] != 99:\n",
    "        a[a[i+3]] = a[a[i+1]] + a[a[i+2]] if a[i] == 1 else a[a[i+1]] * a[a[i+2]]\n",
    "        i += 4\n",
    "    return a[0]\n",
    "comp(a)"
   ]
  },
  {
   "cell_type": "code",
   "execution_count": 4,
   "metadata": {},
   "outputs": [
    {
     "data": {
      "text/plain": [
       "4112"
      ]
     },
     "execution_count": 4,
     "metadata": {},
     "output_type": "execute_result"
    }
   ],
   "source": [
    "f = open('input_02.txt')\n",
    "a = [int(v) for v in f.read().split(',')]\n",
    "\n",
    "def comp2(a):\n",
    "    for noun in range(100):\n",
    "        for verb in range(100):\n",
    "            if comp(a.copy(), noun, verb) == 19690720:\n",
    "                return 100 * noun + verb\n",
    "comp2(a)"
   ]
  },
  {
   "cell_type": "markdown",
   "metadata": {},
   "source": [
    "## Day 3"
   ]
  },
  {
   "cell_type": "code",
   "execution_count": 5,
   "metadata": {},
   "outputs": [
    {
     "data": {
      "text/plain": [
       "2427"
      ]
     },
     "execution_count": 5,
     "metadata": {},
     "output_type": "execute_result"
    }
   ],
   "source": [
    "def segment(W):\n",
    "    x = y = 0\n",
    "    V = []\n",
    "    H = []\n",
    "    for w in W.split(','):\n",
    "        d, l = w[0], int(w[1:])\n",
    "        if d == 'U':\n",
    "            V.append((x, (y, y+l)))\n",
    "            y += l\n",
    "        elif d == 'D':\n",
    "            V.append((x, (y-l, y)))\n",
    "            y -= l\n",
    "        elif d == 'L':\n",
    "            H.append(((x-l, x), y))\n",
    "            x -= l\n",
    "        elif d == 'R':\n",
    "            H.append(((x, x+l), y))\n",
    "            x += l\n",
    "    return V, H\n",
    "\n",
    "def min_distance(V, H):\n",
    "    d = float('inf')\n",
    "    for x, (y0, y1) in V:\n",
    "        for (x0, x1), y in H:\n",
    "            if x0 <= x <= x1 and y0 <= y <= y1:\n",
    "                d0 = abs(x) + abs(y)\n",
    "                if 0 < d0 < d:\n",
    "                    d = d0\n",
    "    return d\n",
    "\n",
    "f = open('input_03.txt')\n",
    "W0, W1, _ = f.read().split('\\n')\n",
    "\n",
    "V0, H0 = segment(W0)\n",
    "V1, H1 = segment(W1)\n",
    "\n",
    "min(min_distance(V1, H0), min_distance(V0, H1))"
   ]
  },
  {
   "cell_type": "code",
   "execution_count": 6,
   "metadata": {},
   "outputs": [
    {
     "data": {
      "text/plain": [
       "27890"
      ]
     },
     "execution_count": 6,
     "metadata": {},
     "output_type": "execute_result"
    }
   ],
   "source": [
    "def segment_steps(W):\n",
    "    x = y = steps = 0\n",
    "    V = []\n",
    "    H = []\n",
    "    for w in W.split(','):\n",
    "        d, l = w[0], int(w[1:])\n",
    "        if d == 'U':\n",
    "            V.append((x, (y, y+l), steps, y))\n",
    "            y += l\n",
    "        elif d == 'D':\n",
    "            V.append((x, (y-l, y), steps, y))\n",
    "            y -= l\n",
    "        elif d == 'L':\n",
    "            H.append(((x-l, x), y, steps, x))\n",
    "            x -= l\n",
    "        elif d == 'R':\n",
    "            H.append(((x, x+l), y, steps, x))\n",
    "            x += l\n",
    "        steps += l\n",
    "    return V, H\n",
    "\n",
    "def min_steps_intersection(V, H):\n",
    "    steps = float('inf')\n",
    "    for x, (y0, y1), SY, Y in V:\n",
    "        for (x0, x1), y, SX, X in H:\n",
    "            if x0 <= x <= x1 and y0 <= y <= y1:\n",
    "                S = SX + abs(x - X) + SY + abs(y - Y)\n",
    "                if 0 < S < steps:\n",
    "                    steps = S\n",
    "    return steps\n",
    "\n",
    "f = open('input_03.txt')\n",
    "W0, W1, _ = f.read().split('\\n')\n",
    "\n",
    "V0, H0 = segment_steps(W0)\n",
    "V1, H1 = segment_steps(W1)\n",
    "\n",
    "min(min_steps_intersection(V1, H0), min_steps_intersection(V0, H1))"
   ]
  },
  {
   "cell_type": "markdown",
   "metadata": {},
   "source": [
    "## Day 4"
   ]
  },
  {
   "cell_type": "code",
   "execution_count": 7,
   "metadata": {},
   "outputs": [
    {
     "data": {
      "text/plain": [
       "1625"
      ]
     },
     "execution_count": 7,
     "metadata": {},
     "output_type": "execute_result"
    }
   ],
   "source": [
    "s0, s1 = '171309-643603'.split('-')\n",
    "n = 0\n",
    "for i in range(int(s0), int(s1)+1):\n",
    "    s = str(i)\n",
    "    c0 = s[0]\n",
    "    repeat = failed = False\n",
    "    for c in s[1:]:\n",
    "        if c == '0' or c < c0:\n",
    "            failed = True\n",
    "            break\n",
    "        elif c == c0:\n",
    "            repeat = True\n",
    "        else:\n",
    "            c0 = c\n",
    "    if repeat and not failed:\n",
    "        n += 1\n",
    "n"
   ]
  },
  {
   "cell_type": "code",
   "execution_count": 8,
   "metadata": {},
   "outputs": [
    {
     "data": {
      "text/plain": [
       "1111"
      ]
     },
     "execution_count": 8,
     "metadata": {},
     "output_type": "execute_result"
    }
   ],
   "source": [
    "s0, s1 = '171309-643603'.split('-')\n",
    "n = 0\n",
    "for i in range(int(s0), int(s1)+1):\n",
    "    s = str(i)\n",
    "    c0 = s[0]\n",
    "    count = 1\n",
    "    failed = pair = False\n",
    "    for c in s[1:]:\n",
    "        if c == '0' or c < c0:\n",
    "            failed = True\n",
    "            break\n",
    "        elif c == c0:\n",
    "            count += 1\n",
    "        else:\n",
    "            if count == 2:\n",
    "                pair = True\n",
    "            c0 = c\n",
    "            count = 1\n",
    "    if (pair or count == 2) and not failed:\n",
    "        n += 1\n",
    "n"
   ]
  },
  {
   "cell_type": "markdown",
   "metadata": {},
   "source": [
    "## Day 5"
   ]
  },
  {
   "cell_type": "code",
   "execution_count": 9,
   "metadata": {},
   "outputs": [],
   "source": [
    "from collections import defaultdict\n",
    "\n",
    "def computer(program, args=[]):\n",
    "    mem = defaultdict(int)\n",
    "    for k, v in enumerate(program):\n",
    "        mem[k] = v\n",
    "    ptr = 0\n",
    "    base = 0\n",
    "    while True:\n",
    "        M2,M1,M0,D,E = list(str(mem[ptr]).zfill(5))\n",
    "        opcode = D+E\n",
    "        if opcode in '01 02'.split():\n",
    "            a, b, c = [mem[ptr+i] for i in range(1,4)]\n",
    "            A = mem[a] if M0 == '0' else (mem[base+a] if M0 == '2' else a)\n",
    "            B = mem[b] if M1 == '0' else (mem[base+b] if M1 == '2' else b)\n",
    "            C = A + B if opcode == '01' else A * B\n",
    "            mem[(base+c) if M2 =='2' else c] = C\n",
    "            ptr += 4\n",
    "        elif opcode == '03':\n",
    "            c = mem[ptr+1]\n",
    "            C = args.pop(0)\n",
    "            mem[(base+c) if M0 =='2' else c] = C\n",
    "            ptr += 2\n",
    "        elif opcode == '04':\n",
    "            c = mem[ptr+1]\n",
    "            C = mem[c] if M0 == '0' else (mem[base+c] if M0 == '2' else c)\n",
    "            yield(C)\n",
    "            ptr += 2\n",
    "        elif opcode in '05 06'.split():\n",
    "            a, b = [mem[ptr+i] for i in range(1,3)]\n",
    "            A = mem[a] if M0 == '0' else (mem[base+a] if M0 == '2' else a)\n",
    "            B = mem[b] if M1 == '0' else (mem[base+b] if M1 == '2' else b)\n",
    "            if (opcode == '05' and A != 0) or (opcode == '06' and A == 0):\n",
    "                ptr = B\n",
    "            else:\n",
    "                ptr += 3\n",
    "        elif opcode in '07 08'.split():\n",
    "            a, b, c = [mem[ptr+i] for i in range(1,4)]\n",
    "            A = mem[a] if M0 == '0' else (mem[base+a] if M0 == '2' else a)\n",
    "            B = mem[b] if M1 == '0' else (mem[base+b] if M1 == '2' else b)\n",
    "            if (opcode == '07' and A < B) or (opcode == '08' and A == B):\n",
    "                mem[(base+c) if M2 =='2' else c] = 1\n",
    "            else:\n",
    "                mem[(base+c) if M2 =='2' else c] = 0\n",
    "            ptr += 4\n",
    "        elif opcode == '09':\n",
    "            c = mem[ptr+1]\n",
    "            C = mem[c] if M0 == '0' else (mem[base+c] if M0 == '2' else c)\n",
    "            base += C\n",
    "            ptr += 2\n",
    "        elif opcode == '99':\n",
    "            return"
   ]
  },
  {
   "cell_type": "code",
   "execution_count": 10,
   "metadata": {},
   "outputs": [
    {
     "name": "stdout",
     "output_type": "stream",
     "text": [
      "0\n",
      "0\n",
      "0\n",
      "0\n",
      "0\n",
      "0\n",
      "0\n",
      "0\n",
      "0\n",
      "9775037\n"
     ]
    }
   ],
   "source": [
    "f = open('input_05.txt')\n",
    "program = [int(v) for v in f.read().strip('\\n').split(',')]\n",
    "for v in computer(program, [1,]):\n",
    "    print(v)"
   ]
  },
  {
   "cell_type": "code",
   "execution_count": 11,
   "metadata": {},
   "outputs": [
    {
     "name": "stdout",
     "output_type": "stream",
     "text": [
      "15586959\n"
     ]
    }
   ],
   "source": [
    "f = open('input_05.txt')\n",
    "program = [int(v) for v in f.read().strip('\\n').split(',')]\n",
    "for v in computer(program, [5,]):\n",
    "    print(v)"
   ]
  },
  {
   "cell_type": "markdown",
   "metadata": {},
   "source": [
    "## Day 6"
   ]
  },
  {
   "cell_type": "code",
   "execution_count": 12,
   "metadata": {},
   "outputs": [
    {
     "data": {
      "text/plain": [
       "295936"
      ]
     },
     "execution_count": 12,
     "metadata": {},
     "output_type": "execute_result"
    }
   ],
   "source": [
    "f = open('input_06.txt')\n",
    "orbits = {b:a for a,b in (v.strip('\\n').split(')') for v in f if v)}\n",
    "count = 0\n",
    "for k, v in orbits.items():\n",
    "    count += 1\n",
    "    while v in orbits:\n",
    "        v = orbits[v]\n",
    "        count += 1\n",
    "count"
   ]
  },
  {
   "cell_type": "code",
   "execution_count": 13,
   "metadata": {},
   "outputs": [
    {
     "data": {
      "text/plain": [
       "457"
      ]
     },
     "execution_count": 13,
     "metadata": {},
     "output_type": "execute_result"
    }
   ],
   "source": [
    "f = open('input_06.txt')\n",
    "orbits = {b:a for a,b in (v.strip('\\n').split(')') for v in f if v)}\n",
    "me = 0\n",
    "v = 'YOU'\n",
    "visited = set()\n",
    "while v in orbits:\n",
    "    v = orbits[v]\n",
    "    visited.add(v)\n",
    "    me += 1\n",
    "santa = 0\n",
    "v = 'SAN'\n",
    "shared = 0\n",
    "while v in orbits:\n",
    "    v = orbits[v]\n",
    "    if v in visited:\n",
    "        shared += 1\n",
    "    santa += 1\n",
    "me + santa - 2 * shared"
   ]
  },
  {
   "cell_type": "markdown",
   "metadata": {},
   "source": [
    "## Day 7"
   ]
  },
  {
   "cell_type": "code",
   "execution_count": 14,
   "metadata": {},
   "outputs": [],
   "source": [
    "f = open('input_07.txt')\n",
    "program = [int(v) for v in f.read().strip('/n').split(',')]"
   ]
  },
  {
   "cell_type": "code",
   "execution_count": 15,
   "metadata": {},
   "outputs": [
    {
     "data": {
      "text/plain": [
       "273814"
      ]
     },
     "execution_count": 15,
     "metadata": {},
     "output_type": "execute_result"
    }
   ],
   "source": [
    "from itertools import permutations\n",
    "\n",
    "def routine(program):\n",
    "    ans = 0\n",
    "    for settings in permutations(range(5)):\n",
    "        v = 0\n",
    "        for s in settings:\n",
    "            args = [s, v]\n",
    "            v = next(computer(program, args))\n",
    "        ans = max(ans, v)\n",
    "    return ans\n",
    "routine(program.copy())"
   ]
  },
  {
   "cell_type": "code",
   "execution_count": 16,
   "metadata": {},
   "outputs": [
    {
     "data": {
      "text/plain": [
       "34579864"
      ]
     },
     "execution_count": 16,
     "metadata": {},
     "output_type": "execute_result"
    }
   ],
   "source": [
    "from itertools import permutations\n",
    "\n",
    "def routine(program):\n",
    "    ans = 0\n",
    "    for settings in permutations(range(5,10)):\n",
    "        args = [[s,] for s in settings]\n",
    "        comps = [computer(program.copy(), arg) for arg in args]\n",
    "        args[0].append(0)\n",
    "        try:\n",
    "            while True:\n",
    "                args[1].append(next(comps[0]))\n",
    "                args[2].append(next(comps[1]))\n",
    "                args[3].append(next(comps[2]))\n",
    "                args[4].append(next(comps[3]))\n",
    "                args[0].append(next(comps[4]))\n",
    "        except:\n",
    "            ans = max(ans, args[0][0])\n",
    "    return ans\n",
    "routine(program)"
   ]
  },
  {
   "cell_type": "markdown",
   "metadata": {},
   "source": [
    "## Day 8"
   ]
  },
  {
   "cell_type": "code",
   "execution_count": 17,
   "metadata": {},
   "outputs": [
    {
     "data": {
      "text/plain": [
       "1742"
      ]
     },
     "execution_count": 17,
     "metadata": {},
     "output_type": "execute_result"
    }
   ],
   "source": [
    "f = open('input_08.txt')\n",
    "data = f.read().strip('\\n')\n",
    "layers = [data[150*i: 150*(i+1)] for i in range(100)]\n",
    "count = 150\n",
    "for i, layer in enumerate(layers):\n",
    "    n = layer.count('0')\n",
    "    if n < count:\n",
    "        count = n\n",
    "        ans = layer.count('1') * layer.count('2')\n",
    "ans"
   ]
  },
  {
   "cell_type": "code",
   "execution_count": 18,
   "metadata": {},
   "outputs": [
    {
     "name": "stdout",
     "output_type": "stream",
     "text": [
      " oo    oo o   ooooo  oo  \n",
      "o  o    o o   oo    o  o \n",
      "o       o  o o ooo  o  o \n",
      "o oo    o   o  o    oooo \n",
      "o  o o  o   o  o    o  o \n",
      " ooo  oo    o  oooo o  o \n"
     ]
    }
   ],
   "source": [
    "final = list('2'*150)\n",
    "\n",
    "for layer in layers:\n",
    "    accum = []\n",
    "    for f, l in zip(final, list(layer)):\n",
    "        accum.append(l if f == '2' else f)\n",
    "    final = accum\n",
    "final = ''.join(final).replace('0', ' ').replace('1', 'o')\n",
    "for i in range(6):\n",
    "    print(final[25*i:25*(i+1)])"
   ]
  },
  {
   "cell_type": "markdown",
   "metadata": {},
   "source": [
    "## Day 9"
   ]
  },
  {
   "cell_type": "code",
   "execution_count": 19,
   "metadata": {},
   "outputs": [],
   "source": [
    "f = open('input_09.txt')\n",
    "program = [int(v) for v in f.read().strip('/n').split(',')]"
   ]
  },
  {
   "cell_type": "code",
   "execution_count": 20,
   "metadata": {},
   "outputs": [],
   "source": [
    "from collections import defaultdict\n",
    "\n",
    "def computer(program, args=[]):\n",
    "    mem = defaultdict(int, enumerate(program))\n",
    "    ptr = 0\n",
    "    base = 0\n",
    "    def mode_val(M, x):\n",
    "        if M == '0':\n",
    "            return mem[x]\n",
    "        elif M == '1':\n",
    "            return x\n",
    "        elif M == '2':\n",
    "            return mem[base + x]\n",
    "    while True:\n",
    "        M2,M1,M0,D,E = list(str(mem[ptr]).zfill(5))\n",
    "        opcode = D+E\n",
    "        if opcode in '01 02'.split():\n",
    "            a, b, c = [mem[ptr+i] for i in range(1,4)]\n",
    "            A = mode_val(M0, a)\n",
    "            B = mode_val(M1, b)\n",
    "            C = (base+c) if M2 =='2' else c\n",
    "            mem[C] = A + B if opcode == '01' else A * B\n",
    "            ptr += 4\n",
    "        elif opcode == '03':\n",
    "            c = mem[ptr+1]\n",
    "            C = (base+c) if M0 =='2' else c\n",
    "            mem[C] = args.pop(0)\n",
    "            ptr += 2\n",
    "        elif opcode == '04':\n",
    "            a = mem[ptr+1]\n",
    "            A = mode_val(M0, a)\n",
    "            yield(A)\n",
    "            ptr += 2\n",
    "        elif opcode in '05 06'.split():\n",
    "            a, b = [mem[ptr+i] for i in range(1,3)]\n",
    "            A = mode_val(M0, a)\n",
    "            B = mode_val(M1, b)\n",
    "            if (opcode == '05' and A != 0) or (opcode == '06' and A == 0):\n",
    "                ptr = B\n",
    "            else:\n",
    "                ptr += 3\n",
    "        elif opcode in '07 08'.split():\n",
    "            a, b, c = [mem[ptr+i] for i in range(1,4)]\n",
    "            A = mode_val(M0, a)\n",
    "            B = mode_val(M1, b)\n",
    "            C = (base+c) if M2 =='2' else c\n",
    "            if (opcode == '07' and A < B) or (opcode == '08' and A == B):\n",
    "                mem[C] = 1\n",
    "            else:\n",
    "                mem[C] = 0\n",
    "            ptr += 4\n",
    "        elif opcode == '09':\n",
    "            a = mem[ptr+1]\n",
    "            A = mode_val(M0, a)\n",
    "            base += A\n",
    "            ptr += 2\n",
    "        elif opcode == '99':\n",
    "            return"
   ]
  },
  {
   "cell_type": "code",
   "execution_count": 21,
   "metadata": {},
   "outputs": [
    {
     "name": "stdout",
     "output_type": "stream",
     "text": [
      "4288078517\n"
     ]
    }
   ],
   "source": [
    "for v in computer(program.copy(), [1,]):\n",
    "    print(v)"
   ]
  },
  {
   "cell_type": "code",
   "execution_count": 22,
   "metadata": {},
   "outputs": [
    {
     "name": "stdout",
     "output_type": "stream",
     "text": [
      "69256\n"
     ]
    }
   ],
   "source": [
    "for v in computer(program.copy(), [2,]):\n",
    "    print(v)"
   ]
  },
  {
   "cell_type": "markdown",
   "metadata": {},
   "source": [
    "## Day 10"
   ]
  },
  {
   "cell_type": "code",
   "execution_count": 23,
   "metadata": {},
   "outputs": [
    {
     "data": {
      "text/plain": [
       "((22+28j), 326)"
      ]
     },
     "execution_count": 23,
     "metadata": {},
     "output_type": "execute_result"
    }
   ],
   "source": [
    "from cmath import phase\n",
    "\n",
    "d = open('input_10.txt').read().strip('\\n').split('\\n')\n",
    "\n",
    "def make(d):\n",
    "    s = set()\n",
    "    for y, l in enumerate(d):\n",
    "        for x, c in enumerate(l):\n",
    "            if c is '#':\n",
    "                s.add(x+y*(1j))\n",
    "    return s\n",
    "\n",
    "def run(s, p):\n",
    "    a = dict()\n",
    "    for r in {q for q in s if q != p}:\n",
    "        v = (r-p)/abs(r-p)\n",
    "        a.setdefault(round(phase(v*(1e-9-1j)), 10), []).append(r)\n",
    "    return a\n",
    "\n",
    "s = make(d)\n",
    "\n",
    "n = 0\n",
    "for p in s:\n",
    "    a = run(s, p)\n",
    "    if n < len(a):\n",
    "        n = len(a)\n",
    "        p0 = p\n",
    "        a0 = a\n",
    "p0, n"
   ]
  },
  {
   "cell_type": "code",
   "execution_count": 24,
   "metadata": {},
   "outputs": [
    {
     "name": "stdout",
     "output_type": "stream",
     "text": [
      "1 (22+21j)\n",
      "2 (23+1j)\n",
      "3 (23+2j)\n",
      "4 (23+7j)\n",
      "5 (23+9j)\n",
      "6 (24+0j)\n",
      "7 (24+2j)\n",
      "8 (23+16j)\n",
      "9 (24+5j)\n",
      "10 (24+7j)\n",
      "11 (25+0j)\n",
      "12 (24+10j)\n",
      "13 (25+2j)\n",
      "14 (24+11j)\n",
      "15 (25+3j)\n",
      "16 (24+12j)\n",
      "17 (25+6j)\n",
      "18 (23+21j)\n",
      "19 (24+15j)\n",
      "20 (23+22j)\n",
      "21 (26+6j)\n",
      "22 (27+1j)\n",
      "23 (23+23j)\n",
      "24 (26+9j)\n",
      "25 (27+5j)\n",
      "26 (24+19j)\n",
      "27 (27+6j)\n",
      "28 (28+3j)\n",
      "29 (23+24j)\n",
      "30 (29+1j)\n",
      "31 (27+9j)\n",
      "32 (26+13j)\n",
      "33 (29+2j)\n",
      "34 (25+17j)\n",
      "35 (27+10j)\n",
      "36 (29+3j)\n",
      "37 (24+21j)\n",
      "38 (29+4j)\n",
      "39 (25+18j)\n",
      "40 (26+15j)\n",
      "41 (28+9j)\n",
      "42 (30+3j)\n",
      "43 (31+0j)\n",
      "44 (23+25j)\n",
      "45 (31+2j)\n",
      "46 (30+5j)\n",
      "47 (28+11j)\n",
      "48 (27+14j)\n",
      "49 (31+3j)\n",
      "50 (26+17j)\n",
      "51 (29+9j)\n",
      "52 (32+1j)\n",
      "53 (25+20j)\n",
      "54 (27+15j)\n",
      "55 (29+10j)\n",
      "56 (26+18j)\n",
      "57 (29+11j)\n",
      "58 (27+16j)\n",
      "59 (29+12j)\n",
      "60 (26+19j)\n",
      "61 (31+8j)\n",
      "62 (32+7j)\n",
      "63 (23+26j)\n",
      "64 (32+9j)\n",
      "65 (27+19j)\n",
      "66 (31+12j)\n",
      "67 (30+15j)\n",
      "68 (32+12j)\n",
      "69 (32+13j)\n",
      "70 (31+16j)\n",
      "71 (32+15j)\n",
      "72 (30+18j)\n",
      "73 (32+16j)\n",
      "74 (29+20j)\n",
      "75 (32+17j)\n",
      "76 (23+27j)\n",
      "77 (32+19j)\n",
      "78 (31+20j)\n",
      "79 (30+21j)\n",
      "80 (28+23j)\n",
      "81 (32+20j)\n",
      "82 (31+21j)\n",
      "83 (29+23j)\n",
      "84 (30+23j)\n",
      "85 (27+25j)\n",
      "86 (29+24j)\n",
      "87 (32+23j)\n",
      "88 (30+25j)\n",
      "89 (27+27j)\n",
      "90 (30+27j)\n",
      "91 (32+27j)\n",
      "92 (26+28j)\n",
      "93 (32+29j)\n",
      "94 (30+29j)\n",
      "95 (29+29j)\n",
      "96 (28+29j)\n",
      "97 (27+29j)\n",
      "98 (32+32j)\n",
      "99 (29+31j)\n",
      "100 (31+32j)\n",
      "101 (26+31j)\n",
      "102 (27+32j)\n",
      "103 (23+29j)\n",
      "104 (22+31j)\n",
      "105 (21+31j)\n",
      "106 (21+30j)\n",
      "107 (20+31j)\n",
      "108 (21+29j)\n",
      "109 (19+30j)\n",
      "110 (17+31j)\n",
      "111 (18+30j)\n",
      "112 (13+32j)\n",
      "113 (17+30j)\n",
      "114 (14+31j)\n",
      "115 (13+31j)\n",
      "116 (8+32j)\n",
      "117 (14+30j)\n",
      "118 (4+32j)\n",
      "119 (3+32j)\n",
      "120 (17+29j)\n",
      "121 (1+32j)\n",
      "122 (11+30j)\n",
      "123 (16+29j)\n",
      "124 (15+29j)\n",
      "125 (7+30j)\n",
      "126 (14+29j)\n",
      "127 (13+29j)\n",
      "128 (3+30j)\n",
      "129 (1+30j)\n",
      "130 30j\n",
      "131 (10+29j)\n",
      "132 (8+29j)\n",
      "133 (6+29j)\n",
      "134 (3+29j)\n",
      "135 (21+28j)\n",
      "136 27j\n",
      "137 (4+27j)\n",
      "138 (6+27j)\n",
      "139 (8+27j)\n",
      "140 (2+26j)\n",
      "141 (13+27j)\n",
      "142 (5+26j)\n",
      "143 (6+26j)\n",
      "144 (8+26j)\n",
      "145 (9+26j)\n",
      "146 (3+25j)\n",
      "147 (11+26j)\n",
      "148 (2+24j)\n",
      "149 (3+24j)\n",
      "150 (8+25j)\n",
      "151 (13+26j)\n",
      "152 23j\n",
      "153 (9+25j)\n",
      "154 (5+24j)\n",
      "155 (14+26j)\n",
      "156 (3+23j)\n",
      "157 (5+23j)\n",
      "158 (12+25j)\n",
      "159 (6+23j)\n",
      "160 (13+25j)\n",
      "161 (11+24j)\n",
      "162 (14+25j)\n",
      "163 (12+24j)\n",
      "164 19j\n",
      "165 (5+21j)\n",
      "166 (10+23j)\n",
      "167 (3+20j)\n",
      "168 (8+22j)\n",
      "169 (6+21j)\n",
      "170 (4+20j)\n",
      "171 (11+23j)\n",
      "172 (9+22j)\n",
      "173 (5+20j)\n",
      "174 (3+19j)\n",
      "175 (16+25j)\n",
      "176 (1+17j)\n",
      "177 (7+20j)\n",
      "178 16j\n",
      "179 (6+19j)\n",
      "180 (3+17j)\n",
      "181 (12+22j)\n",
      "182 (4+17j)\n",
      "183 (9+20j)\n",
      "184 (1+15j)\n",
      "185 (14+23j)\n",
      "186 14j\n",
      "187 (2+15j)\n",
      "188 (19+26j)\n",
      "189 (3+15j)\n",
      "190 (2+14j)\n",
      "191 (15+23j)\n",
      "192 (4+15j)\n",
      "193 (14+22j)\n",
      "194 (5+15j)\n",
      "195 (13+21j)\n",
      "196 (8+17j)\n",
      "197 (17+24j)\n",
      "198 (1+11j)\n",
      "199 (11+19j)\n",
      "200 (16+23j)\n",
      "201 (3+12j)\n",
      "202 (9+17j)\n",
      "203 (2+11j)\n",
      "204 (1+10j)\n",
      "205 9j\n",
      "206 (7+15j)\n",
      "207 (6+14j)\n",
      "208 (5+13j)\n",
      "209 (2+10j)\n",
      "210 8j\n",
      "211 (9+16j)\n",
      "212 (4+11j)\n",
      "213 (2+9j)\n",
      "214 7j\n",
      "215 (21+27j)\n",
      "216 (1+6j)\n",
      "217 (2+7j)\n",
      "218 (6+11j)\n",
      "219 (7+12j)\n",
      "220 (9+14j)\n",
      "221 (11+16j)\n",
      "222 (1+5j)\n",
      "223 (12+17j)\n",
      "224 (14+19j)\n",
      "225 (7+11j)\n",
      "226 (4+7j)\n",
      "227 2j\n",
      "228 (7+10j)\n",
      "229 (1+2j)\n",
      "230 (18+23j)\n",
      "231 0j\n",
      "232 (15+19j)\n",
      "233 (2+2j)\n",
      "234 (6+7j)\n",
      "235 (19+24j)\n",
      "236 (11+13j)\n",
      "237 (3+2j)\n",
      "238 (9+10j)\n",
      "239 (4+3j)\n",
      "240 (7+7j)\n",
      "241 (5+4j)\n",
      "242 (3+1j)\n",
      "243 (6+5j)\n",
      "244 (11+12j)\n",
      "245 (20+25j)\n",
      "246 (4+0j)\n",
      "247 (15+17j)\n",
      "248 (17+20j)\n",
      "249 (14+15j)\n",
      "250 (11+10j)\n",
      "251 (8+5j)\n",
      "252 (5+0j)\n",
      "253 (7+3j)\n",
      "254 (6+1j)\n",
      "255 (9+6j)\n",
      "256 (15+16j)\n",
      "257 (7+2j)\n",
      "258 (14+14j)\n",
      "259 (9+5j)\n",
      "260 (17+19j)\n",
      "261 (16+17j)\n",
      "262 (9+4j)\n",
      "263 (12+9j)\n",
      "264 (8+1j)\n",
      "265 (20+24j)\n",
      "266 (11+5j)\n",
      "267 (12+7j)\n",
      "268 (13+9j)\n",
      "269 (10+2j)\n",
      "270 (11+4j)\n",
      "271 (13+8j)\n",
      "272 (10+1j)\n",
      "273 (11+3j)\n",
      "274 (19+21j)\n",
      "275 (12+4j)\n",
      "276 (11+1j)\n",
      "277 (16+13j)\n",
      "278 (11+0j)\n",
      "279 (13+5j)\n",
      "280 (15+10j)\n",
      "281 (12+2j)\n",
      "282 (19+20j)\n",
      "283 (12+0j)\n",
      "284 (14+5j)\n",
      "285 (13+2j)\n",
      "286 (21+25j)\n",
      "287 (14+3j)\n",
      "288 (15+6j)\n",
      "289 (17+11j)\n",
      "290 (16+7j)\n",
      "291 (15+3j)\n",
      "292 (17+9j)\n",
      "293 (18+12j)\n",
      "294 (16+3j)\n",
      "295 (17+7j)\n",
      "296 (18+11j)\n",
      "297 (18+10j)\n",
      "298 (16+0j)\n",
      "299 (18+9j)\n",
      "300 (18+8j)\n",
      "301 (17+2j)\n",
      "302 (18+7j)\n",
      "303 (17+1j)\n",
      "304 (20+17j)\n",
      "305 (17+0j)\n",
      "306 (19+11j)\n",
      "307 (18+4j)\n",
      "308 (19+8j)\n",
      "309 (20+12j)\n",
      "310 (19+3j)\n",
      "311 (20+11j)\n",
      "312 (19+2j)\n",
      "313 (20+10j)\n",
      "314 (19+0j)\n",
      "315 (20+9j)\n",
      "316 (21+18j)\n",
      "317 (20+7j)\n",
      "318 (21+17j)\n",
      "319 (20+4j)\n",
      "320 (20+3j)\n",
      "321 (20+2j)\n",
      "322 (20+1j)\n",
      "323 (21+13j)\n",
      "324 (21+6j)\n",
      "325 (21+5j)\n",
      "326 (21+1j)\n",
      "327 (22+20j)\n",
      "328 (24+4j)\n",
      "329 (26+2j)\n",
      "330 (24+16j)\n",
      "331 (28+1j)\n",
      "332 (26+12j)\n",
      "333 (30+0j)\n",
      "334 (24+22j)\n",
      "335 (32+0j)\n",
      "336 (28+13j)\n",
      "337 (28+16j)\n",
      "338 (25+25j)\n",
      "339 (32+22j)\n",
      "340 (27+28j)\n",
      "341 (32+30j)\n",
      "342 (26+32j)\n",
      "343 (22+32j)\n",
      "344 (20+32j)\n",
      "345 (14+32j)\n",
      "346 (10+31j)\n",
      "347 (10+30j)\n",
      "348 (17+28j)\n",
      "349 (1+25j)\n",
      "350 (6+24j)\n",
      "351 (1+19j)\n",
      "352 18j\n",
      "353 (14+24j)\n",
      "354 (2+16j)\n",
      "355 (6+18j)\n",
      "356 (1+14j)\n",
      "357 (8+18j)\n",
      "358 (2+12j)\n",
      "359 10j\n",
      "360 (10+18j)\n",
      "361 (12+18j)\n",
      "362 (14+18j)\n",
      "363 (8+10j)\n",
      "364 (13+16j)\n",
      "365 (2+0j)\n",
      "366 (10+10j)\n",
      "367 (12+12j)\n",
      "368 (10+7j)\n",
      "369 (17+18j)\n",
      "370 (10+0j)\n",
      "371 (14+8j)\n",
      "372 (19+19j)\n",
      "373 (17+8j)\n",
      "374 (17+3j)\n",
      "375 (22+15j)\n",
      "376 (26+4j)\n",
      "377 (27+8j)\n",
      "378 (27+13j)\n",
      "379 (32+8j)\n",
      "380 (31+19j)\n",
      "381 (32+28j)\n",
      "382 (14+28j)\n",
      "383 (2+23j)\n",
      "384 (2+18j)\n",
      "385 (1+13j)\n",
      "386 (4+10j)\n",
      "387 (2+3j)\n",
      "388 (10+12j)\n",
      "389 (8+0j)\n",
      "390 (17+13j)\n",
      "391 (16+4j)\n",
      "392 (22+13j)\n",
      "393 (29+7j)\n",
      "394 (32+18j)\n",
      "395 (10+28j)\n",
      "396 (2+8j)\n",
      "397 (4+4j)\n",
      "398 (22+11j)\n",
      "399 (30+4j)\n",
      "400 (8+28j)\n",
      "401 (22+9j)\n",
      "402 (7+28j)\n",
      "403 (22+7j)\n",
      "404 (5+28j)\n",
      "405 (4+28j)\n",
      "406 (3+28j)\n"
     ]
    }
   ],
   "source": [
    "for v in a0.values():\n",
    "    v.sort(key=lambda x: abs(x-p0))\n",
    "cnt = 0\n",
    "while len(a0):\n",
    "    for k in sorted(a0.keys()):\n",
    "        if len(a0[k]):\n",
    "            cnt += 1\n",
    "            print(cnt, a0[k].pop(0))\n",
    "        else:\n",
    "            del a0[k]       "
   ]
  },
  {
   "cell_type": "markdown",
   "metadata": {},
   "source": [
    "## Day 11"
   ]
  },
  {
   "cell_type": "code",
   "execution_count": 25,
   "metadata": {},
   "outputs": [],
   "source": [
    "f = open('input_11.txt')\n",
    "program = [int(v) for v in f.read().strip('\\n').split(',')]"
   ]
  },
  {
   "cell_type": "code",
   "execution_count": 26,
   "metadata": {},
   "outputs": [
    {
     "data": {
      "text/plain": [
       "2469"
      ]
     },
     "execution_count": 26,
     "metadata": {},
     "output_type": "execute_result"
    }
   ],
   "source": [
    "def run(args=[0,]):\n",
    "    position = 0\n",
    "    direction = 1j\n",
    "    zeros = set()\n",
    "    ones = set()\n",
    "    C = computer(program, args)\n",
    "    for paint in C:\n",
    "        if paint == 0:\n",
    "            zeros.add(position)\n",
    "            ones.discard(position)\n",
    "        else:\n",
    "            ones.add(position)\n",
    "            zeros.discard(position)\n",
    "        turn = next(C)\n",
    "        if turn == 0:\n",
    "            direction *= 1j\n",
    "        else:\n",
    "            direction *= -1j\n",
    "        position += direction\n",
    "        if position in ones:\n",
    "            args.append(1)\n",
    "        else:\n",
    "            args.append(0)\n",
    "    return ones, zeros\n",
    "\n",
    "ones, zeros = run()\n",
    "len(ones | zeros)"
   ]
  },
  {
   "cell_type": "code",
   "execution_count": 27,
   "metadata": {},
   "outputs": [
    {
     "name": "stdout",
     "output_type": "stream",
     "text": [
      " o  o o     oo  oooo  oo  oooo  oo  o  o\n",
      " o o  o    o  o    o o  o o    o  o o  o\n",
      " oo   o    o      o  o  o ooo  o    o  o\n",
      " o o  o    o     o   oooo o    o oo o  o\n",
      " o o  o    o  o o    o  o o    o  o o  o\n",
      " o  o oooo  oo  oooo o  o oooo  ooo  oo \n"
     ]
    }
   ],
   "source": [
    "ones, zeros = run([1,])\n",
    "\n",
    "ans = [\n",
    "    [' ' for i in range(int(max([x.real for x in ones]))+1)]\n",
    "    for j in range(abs(int(min([x.imag for x in ones])))+1)\n",
    "]\n",
    "for p in ones:\n",
    "    ans[int(-p.imag)][int(p.real)] = 'o'\n",
    "for r in ans:\n",
    "    print(''.join(r))"
   ]
  },
  {
   "cell_type": "markdown",
   "metadata": {},
   "source": [
    "## Day 12"
   ]
  },
  {
   "cell_type": "code",
   "execution_count": 28,
   "metadata": {},
   "outputs": [
    {
     "data": {
      "text/plain": [
       "9441"
      ]
     },
     "execution_count": 28,
     "metadata": {},
     "output_type": "execute_result"
    }
   ],
   "source": [
    "class Moon:\n",
    "    def __init__(self, x, y, z):\n",
    "        self.v = (0,0,0)\n",
    "        self.pos = (x,y,z)\n",
    "    def dv(self, other):\n",
    "        d = [o - s for o, s in zip(other.pos, self.pos)]\n",
    "        d = [int(x / abs(x)) if x else x for x in d]\n",
    "        self.v = tuple(a + b for a, b in zip(self.v, d))\n",
    "    def dp(self):\n",
    "        self.pos = tuple(a + b for a, b in zip(self.pos, self.v))\n",
    "    def energy(self):\n",
    "        return sum([abs(x) for x in self.v]) * sum([abs(x) for x in self.pos])\n",
    "\n",
    "moons = [Moon(*p) for p in [(17,-7,-11),(1,4,-1),(6,-2,-6),(19,11,9)]]\n",
    "\n",
    "for _ in range(1000):\n",
    "    for m in moons:\n",
    "        for n in moons:\n",
    "            if m is not n:\n",
    "                m.dv(n)\n",
    "    for m in moons:\n",
    "        m.dp()\n",
    "sum([m.energy() for m in moons])    "
   ]
  },
  {
   "cell_type": "code",
   "execution_count": 29,
   "metadata": {},
   "outputs": [],
   "source": [
    "X, Y, Z = [(*a,0,0,0,0) for a in zip((17,-7,-11),(1,4,-1),(6,-2,-6),(19,11,9))]\n",
    "def step(PV):\n",
    "    P, V = PV[:4], PV[4:]\n",
    "    dP = [[p - p0 for p in P] for p0 in P]\n",
    "    dV = [sum(int(x/abs(x)) if x else x for x in r) for r in dP]\n",
    "    V = [v + dv for v, dv in zip(V, dV)]\n",
    "    P = [p + v for p, v in zip(P, V)]\n",
    "    return (*P,*V)"
   ]
  },
  {
   "cell_type": "code",
   "execution_count": 30,
   "metadata": {},
   "outputs": [],
   "source": [
    "def find(X):\n",
    "    X0 = tuple(X)\n",
    "    n = 0\n",
    "    while True:\n",
    "        X = step(X)\n",
    "        n += 1\n",
    "        if X == X0:\n",
    "            return n"
   ]
  },
  {
   "cell_type": "code",
   "execution_count": 31,
   "metadata": {},
   "outputs": [],
   "source": [
    "from math import gcd\n",
    "from functools import reduce\n",
    "\n",
    "def lcm(a, b):\n",
    "    \"\"\"Return lowest common multiple.\"\"\"\n",
    "    return a * b // gcd(a, b)\n",
    "\n",
    "def lcmm(*args):\n",
    "    \"\"\"Return lcm of args.\"\"\"   \n",
    "    return reduce(lcm, args)"
   ]
  },
  {
   "cell_type": "code",
   "execution_count": 32,
   "metadata": {},
   "outputs": [
    {
     "data": {
      "text/plain": [
       "503560201099704"
      ]
     },
     "execution_count": 32,
     "metadata": {},
     "output_type": "execute_result"
    }
   ],
   "source": [
    "lcmm(find(X),find(Y),find(Z))"
   ]
  },
  {
   "cell_type": "markdown",
   "metadata": {},
   "source": [
    "## Day 13"
   ]
  },
  {
   "cell_type": "code",
   "execution_count": 35,
   "metadata": {},
   "outputs": [
    {
     "name": "stdout",
     "output_type": "stream",
     "text": [
      "WWWWWWWWWWWWWWWWWWWWWWWWWWWWWWWWWWWWWWW \n",
      "W                                      W\n",
      "W         bb b  b bbb b b bb   bbb b   W\n",
      "W bb b b  b   bbb   b b   bb   b   b b W\n",
      "W b b b bbb  b     b   b b bb bb bbbb  W\n",
      "W      bbbb  b      b bb  bbbbbbb bbbb W\n",
      "W b  b     b     bb  bbb   bbb b   b   W\n",
      "W  b       bbbb    b  b b   bbbb bbbb  W\n",
      "W bb    bb b   bbb b   b     bb bbb    W\n",
      "W     b b  bbbb bb  b  bb bbb  bb   b  W\n",
      "W   b b b b  bbbb   b b bbb  bbb   b   W\n",
      "W  b   bbb b   bb       bb b b bbbbb   W\n",
      "W  bbbb b   bbbb b bb b b  b   bb   b  W\n",
      "W b  bb   b  b   b b       bb b bbb b  W\n",
      "W b b b b b b   b bb bbbbb  bb bbb b   W\n",
      "W  bb   b    b  bb bbb  bbbbbb b bb  b W\n",
      "W bbb b   bbbb  bbb   bbb b b b bb   b W\n",
      "W     bbb  b bb   b  bbbb  b   b b  b  W\n",
      "W   b bb bbbb     bb b  b bbbbb bbb    W\n",
      "W bbb      b b b bb     b b   b     b  W\n",
      "W                                      W\n",
      "W                 B                    W\n",
      "W                                      W\n",
      "W                                      W\n",
      "W                   P                  W\n",
      "W                                      W\n"
     ]
    },
    {
     "data": {
      "text/plain": [
       "298"
      ]
     },
     "execution_count": 35,
     "metadata": {},
     "output_type": "execute_result"
    }
   ],
   "source": [
    "f = open('input_13.txt')\n",
    "program =  [int(v) for v in f.read().split(',')]\n",
    "program[0] = 2\n",
    "args = [0]\n",
    "C = computer(program.copy(), args)\n",
    "G = [['' for _ in range(40)] for _ in range(26)]\n",
    "yP = None\n",
    "blocks = 0\n",
    "for i, y in enumerate(C):\n",
    "    x = next(C)\n",
    "    t = next(C)\n",
    "    G[x][y] = list(' WbPB')[t]\n",
    "    if t == 3:\n",
    "        yP = y\n",
    "    elif t == 2:\n",
    "        blocks += 1\n",
    "    if i == 1040:\n",
    "        break\n",
    "print('\\n'.join(''.join(r) for r in G))\n",
    "blocks"
   ]
  },
  {
   "cell_type": "code",
   "execution_count": 36,
   "metadata": {},
   "outputs": [
    {
     "data": {
      "text/plain": [
       "13956"
      ]
     },
     "execution_count": 36,
     "metadata": {},
     "output_type": "execute_result"
    }
   ],
   "source": [
    "while any('b' in r for r in G) or not(x == 0 and y == -1):\n",
    "    y = next(C)\n",
    "    x = next(C)\n",
    "    t = next(C)\n",
    "    if not(x == 0 and y == -1):\n",
    "        G[x][y] = list(' WbPB')[t]\n",
    "        if t == 3:\n",
    "            yP = y\n",
    "        elif t == 4:\n",
    "            args.clear()\n",
    "            if yP < y:\n",
    "                args.append(1)\n",
    "            elif yP == y:\n",
    "                args.append(0)\n",
    "            else:\n",
    "                args.append(-1)\n",
    "t"
   ]
  }
 ],
 "metadata": {
  "kernelspec": {
   "display_name": "Python 3",
   "language": "python",
   "name": "python3"
  },
  "language_info": {
   "codemirror_mode": {
    "name": "ipython",
    "version": 3
   },
   "file_extension": ".py",
   "mimetype": "text/x-python",
   "name": "python",
   "nbconvert_exporter": "python",
   "pygments_lexer": "ipython3",
   "version": "3.7.3"
  }
 },
 "nbformat": 4,
 "nbformat_minor": 2
}

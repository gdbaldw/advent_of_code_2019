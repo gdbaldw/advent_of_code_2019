{
 "cells": [
  {
   "cell_type": "markdown",
   "metadata": {},
   "source": [
    "# Advent of Code 2019"
   ]
  },
  {
   "cell_type": "markdown",
   "metadata": {},
   "source": [
    "## Day 1"
   ]
  },
  {
   "cell_type": "code",
   "execution_count": 1,
   "metadata": {},
   "outputs": [
    {
     "data": {
      "text/plain": [
       "3465154"
      ]
     },
     "execution_count": 1,
     "metadata": {},
     "output_type": "execute_result"
    }
   ],
   "source": [
    "f = open('input_01.txt')\n",
    "\n",
    "sum([int(v)//3 - 2 for v in f])"
   ]
  },
  {
   "cell_type": "code",
   "execution_count": 2,
   "metadata": {},
   "outputs": [
    {
     "data": {
      "text/plain": [
       "5194864"
      ]
     },
     "execution_count": 2,
     "metadata": {},
     "output_type": "execute_result"
    }
   ],
   "source": [
    "f = open('input_01.txt')\n",
    "\n",
    "gt = 0\n",
    "for v in (int(v)//3 - 2 for v in f):\n",
    "    while 0 < v:\n",
    "        gt += v\n",
    "        v = v//3 - 2\n",
    "gt"
   ]
  },
  {
   "cell_type": "markdown",
   "metadata": {},
   "source": [
    "## Day 2"
   ]
  },
  {
   "cell_type": "code",
   "execution_count": 3,
   "metadata": {},
   "outputs": [
    {
     "data": {
      "text/plain": [
       "6327510"
      ]
     },
     "execution_count": 3,
     "metadata": {},
     "output_type": "execute_result"
    }
   ],
   "source": [
    "f = open('input_02.txt')\n",
    "a = [int(v) for v in f.read().split(',')]\n",
    "\n",
    "def comp(a, noun=12, verb=2):\n",
    "    a[1] = noun\n",
    "    a[2] = verb\n",
    "    i = 0\n",
    "    while a[i] != 99:\n",
    "        a[a[i+3]] = a[a[i+1]] + a[a[i+2]] if a[i] == 1 else a[a[i+1]] * a[a[i+2]]\n",
    "        i += 4\n",
    "    return a[0]\n",
    "comp(a)"
   ]
  },
  {
   "cell_type": "code",
   "execution_count": 4,
   "metadata": {},
   "outputs": [
    {
     "data": {
      "text/plain": [
       "4112"
      ]
     },
     "execution_count": 4,
     "metadata": {},
     "output_type": "execute_result"
    }
   ],
   "source": [
    "f = open('input_02.txt')\n",
    "a = [int(v) for v in f.read().split(',')]\n",
    "\n",
    "def comp2(a):\n",
    "    for noun in range(100):\n",
    "        for verb in range(100):\n",
    "            if comp(a.copy(), noun, verb) == 19690720:\n",
    "                return 100 * noun + verb\n",
    "comp2(a)"
   ]
  },
  {
   "cell_type": "markdown",
   "metadata": {},
   "source": [
    "## Day 3"
   ]
  },
  {
   "cell_type": "code",
   "execution_count": 5,
   "metadata": {},
   "outputs": [
    {
     "data": {
      "text/plain": [
       "2427"
      ]
     },
     "execution_count": 5,
     "metadata": {},
     "output_type": "execute_result"
    }
   ],
   "source": [
    "def segment(W):\n",
    "    x = y = 0\n",
    "    V = []\n",
    "    H = []\n",
    "    for w in W.split(','):\n",
    "        d, l = w[0], int(w[1:])\n",
    "        if d == 'U':\n",
    "            V.append((x, (y, y+l)))\n",
    "            y += l\n",
    "        elif d == 'D':\n",
    "            V.append((x, (y-l, y)))\n",
    "            y -= l\n",
    "        elif d == 'L':\n",
    "            H.append(((x-l, x), y))\n",
    "            x -= l\n",
    "        elif d == 'R':\n",
    "            H.append(((x, x+l), y))\n",
    "            x += l\n",
    "    return V, H\n",
    "\n",
    "def min_distance(V, H):\n",
    "    d = float('inf')\n",
    "    for x, (y0, y1) in V:\n",
    "        for (x0, x1), y in H:\n",
    "            if x0 <= x <= x1 and y0 <= y <= y1:\n",
    "                d0 = abs(x) + abs(y)\n",
    "                if 0 < d0 < d:\n",
    "                    d = d0\n",
    "    return d\n",
    "\n",
    "f = open('input_03.txt')\n",
    "W0, W1, _ = f.read().split('\\n')\n",
    "\n",
    "V0, H0 = segment(W0)\n",
    "V1, H1 = segment(W1)\n",
    "\n",
    "min(min_distance(V1, H0), min_distance(V0, H1))"
   ]
  },
  {
   "cell_type": "code",
   "execution_count": 6,
   "metadata": {},
   "outputs": [
    {
     "data": {
      "text/plain": [
       "27890"
      ]
     },
     "execution_count": 6,
     "metadata": {},
     "output_type": "execute_result"
    }
   ],
   "source": [
    "def segment_steps(W):\n",
    "    x = y = steps = 0\n",
    "    V = []\n",
    "    H = []\n",
    "    for w in W.split(','):\n",
    "        d, l = w[0], int(w[1:])\n",
    "        if d == 'U':\n",
    "            V.append((x, (y, y+l), steps, y))\n",
    "            y += l\n",
    "        elif d == 'D':\n",
    "            V.append((x, (y-l, y), steps, y))\n",
    "            y -= l\n",
    "        elif d == 'L':\n",
    "            H.append(((x-l, x), y, steps, x))\n",
    "            x -= l\n",
    "        elif d == 'R':\n",
    "            H.append(((x, x+l), y, steps, x))\n",
    "            x += l\n",
    "        steps += l\n",
    "    return V, H\n",
    "\n",
    "def min_steps_intersection(V, H):\n",
    "    steps = float('inf')\n",
    "    for x, (y0, y1), SY, Y in V:\n",
    "        for (x0, x1), y, SX, X in H:\n",
    "            if x0 <= x <= x1 and y0 <= y <= y1:\n",
    "                S = SX + abs(x - X) + SY + abs(y - Y)\n",
    "                if 0 < S < steps:\n",
    "                    steps = S\n",
    "    return steps\n",
    "\n",
    "f = open('input_03.txt')\n",
    "W0, W1, _ = f.read().split('\\n')\n",
    "\n",
    "V0, H0 = segment_steps(W0)\n",
    "V1, H1 = segment_steps(W1)\n",
    "\n",
    "min(min_steps_intersection(V1, H0), min_steps_intersection(V0, H1))"
   ]
  },
  {
   "cell_type": "markdown",
   "metadata": {},
   "source": [
    "## Day 4"
   ]
  },
  {
   "cell_type": "code",
   "execution_count": 7,
   "metadata": {},
   "outputs": [
    {
     "data": {
      "text/plain": [
       "1625"
      ]
     },
     "execution_count": 7,
     "metadata": {},
     "output_type": "execute_result"
    }
   ],
   "source": [
    "s0, s1 = '171309-643603'.split('-')\n",
    "n = 0\n",
    "for i in range(int(s0), int(s1)+1):\n",
    "    s = str(i)\n",
    "    c0 = s[0]\n",
    "    repeat = failed = False\n",
    "    for c in s[1:]:\n",
    "        if c == '0' or c < c0:\n",
    "            failed = True\n",
    "            break\n",
    "        elif c == c0:\n",
    "            repeat = True\n",
    "        else:\n",
    "            c0 = c\n",
    "    if repeat and not failed:\n",
    "        n += 1\n",
    "n"
   ]
  },
  {
   "cell_type": "code",
   "execution_count": 8,
   "metadata": {},
   "outputs": [
    {
     "data": {
      "text/plain": [
       "1111"
      ]
     },
     "execution_count": 8,
     "metadata": {},
     "output_type": "execute_result"
    }
   ],
   "source": [
    "s0, s1 = '171309-643603'.split('-')\n",
    "n = 0\n",
    "for i in range(int(s0), int(s1)+1):\n",
    "    s = str(i)\n",
    "    c0 = s[0]\n",
    "    count = 1\n",
    "    failed = pair = False\n",
    "    for c in s[1:]:\n",
    "        if c == '0' or c < c0:\n",
    "            failed = True\n",
    "            break\n",
    "        elif c == c0:\n",
    "            count += 1\n",
    "        else:\n",
    "            if count == 2:\n",
    "                pair = True\n",
    "            c0 = c\n",
    "            count = 1\n",
    "    if (pair or count == 2) and not failed:\n",
    "        n += 1\n",
    "n"
   ]
  },
  {
   "cell_type": "markdown",
   "metadata": {},
   "source": [
    "## Day 5"
   ]
  },
  {
   "cell_type": "code",
   "execution_count": 9,
   "metadata": {},
   "outputs": [],
   "source": [
    "def computer(mem, args=[1,]):\n",
    "    ptr = 0\n",
    "    while True:\n",
    "        M2,M1,M0,D,E = list(str(mem[ptr]).zfill(5))\n",
    "        opcode = D+E\n",
    "        if opcode in '01 02'.split():\n",
    "            a, b, c = [mem[ptr+i] for i in range(1,4)]\n",
    "            A = mem[a] if M0 == '0' else a\n",
    "            B = mem[b] if M1 == '0' else b\n",
    "            C = A + B if opcode == '01' else A * B\n",
    "            mem[c] = C\n",
    "            ptr += 4\n",
    "        elif opcode == '03':\n",
    "            c = mem[ptr+1]\n",
    "            C = args.pop(0)\n",
    "            mem[c] = C\n",
    "            ptr += 2\n",
    "        elif opcode == '04':\n",
    "            c = mem[ptr+1]\n",
    "            C = mem[c] if M0 == '0' else c\n",
    "            yield(C)\n",
    "            ptr += 2\n",
    "        if opcode in '05 06'.split():\n",
    "            a, b = [mem[ptr+i] for i in range(1,3)]\n",
    "            A = mem[a] if M0 == '0' else a\n",
    "            B = mem[b] if M1 == '0' else b\n",
    "            if (opcode == '05' and A != 0) or (opcode == '06' and A == 0):\n",
    "                ptr = B\n",
    "            else:\n",
    "                ptr += 3\n",
    "        if opcode in '07 08'.split():\n",
    "            a, b, c = [mem[ptr+i] for i in range(1,4)]\n",
    "            A = mem[a] if M0 == '0' else a\n",
    "            B = mem[b] if M1 == '0' else b\n",
    "            if (opcode == '07' and A < B) or (opcode == '08' and A == B):\n",
    "                mem[c] = 1\n",
    "            else:\n",
    "                mem[c] = 0\n",
    "            ptr += 4\n",
    "        elif opcode == '99':\n",
    "            return"
   ]
  },
  {
   "cell_type": "code",
   "execution_count": 10,
   "metadata": {},
   "outputs": [
    {
     "name": "stdout",
     "output_type": "stream",
     "text": [
      "0\n",
      "0\n",
      "0\n",
      "0\n",
      "0\n",
      "0\n",
      "0\n",
      "0\n",
      "0\n",
      "9775037\n"
     ]
    }
   ],
   "source": [
    "f = open('input_05.txt')\n",
    "program = [int(v) for v in f.read().strip('\\n').split(',')]\n",
    "for v in computer(program, [1,]):\n",
    "    print(v)"
   ]
  },
  {
   "cell_type": "code",
   "execution_count": 11,
   "metadata": {},
   "outputs": [
    {
     "name": "stdout",
     "output_type": "stream",
     "text": [
      "15586959\n"
     ]
    }
   ],
   "source": [
    "f = open('input_05.txt')\n",
    "program = [int(v) for v in f.read().strip('\\n').split(',')]\n",
    "for v in computer(program, [5,]):\n",
    "    print(v)"
   ]
  },
  {
   "cell_type": "markdown",
   "metadata": {},
   "source": [
    "## Day 6"
   ]
  },
  {
   "cell_type": "code",
   "execution_count": 12,
   "metadata": {},
   "outputs": [
    {
     "data": {
      "text/plain": [
       "295936"
      ]
     },
     "execution_count": 12,
     "metadata": {},
     "output_type": "execute_result"
    }
   ],
   "source": [
    "f = open('input_06.txt')\n",
    "orbits = {b:a for a,b in (v.strip('\\n').split(')') for v in f if v)}\n",
    "count = 0\n",
    "for k, v in orbits.items():\n",
    "    count += 1\n",
    "    while v in orbits:\n",
    "        v = orbits[v]\n",
    "        count += 1\n",
    "count"
   ]
  },
  {
   "cell_type": "code",
   "execution_count": 13,
   "metadata": {},
   "outputs": [
    {
     "data": {
      "text/plain": [
       "457"
      ]
     },
     "execution_count": 13,
     "metadata": {},
     "output_type": "execute_result"
    }
   ],
   "source": [
    "f = open('input_06.txt')\n",
    "orbits = {b:a for a,b in (v.strip('\\n').split(')') for v in f if v)}\n",
    "me = 0\n",
    "v = 'YOU'\n",
    "visited = set()\n",
    "while v in orbits:\n",
    "    v = orbits[v]\n",
    "    visited.add(v)\n",
    "    me += 1\n",
    "santa = 0\n",
    "v = 'SAN'\n",
    "shared = 0\n",
    "while v in orbits:\n",
    "    v = orbits[v]\n",
    "    if v in visited:\n",
    "        shared += 1\n",
    "    santa += 1\n",
    "me + santa - 2 * shared"
   ]
  },
  {
   "cell_type": "markdown",
   "metadata": {},
   "source": [
    "## Day 7"
   ]
  },
  {
   "cell_type": "code",
   "execution_count": 14,
   "metadata": {},
   "outputs": [],
   "source": [
    "f = open('input_07.txt')\n",
    "program = [int(v) for v in f.read().strip('/n').split(',')]"
   ]
  },
  {
   "cell_type": "code",
   "execution_count": 15,
   "metadata": {},
   "outputs": [
    {
     "data": {
      "text/plain": [
       "273814"
      ]
     },
     "execution_count": 15,
     "metadata": {},
     "output_type": "execute_result"
    }
   ],
   "source": [
    "from itertools import permutations\n",
    "\n",
    "def routine(program):\n",
    "    ans = 0\n",
    "    for settings in permutations(range(5)):\n",
    "        v = 0\n",
    "        for s in settings:\n",
    "            args = [s, v]\n",
    "            v = next(computer(program, args))\n",
    "        ans = max(ans, v)\n",
    "    return ans\n",
    "routine(program.copy())"
   ]
  },
  {
   "cell_type": "code",
   "execution_count": 16,
   "metadata": {},
   "outputs": [
    {
     "data": {
      "text/plain": [
       "34579864"
      ]
     },
     "execution_count": 16,
     "metadata": {},
     "output_type": "execute_result"
    }
   ],
   "source": [
    "from itertools import permutations\n",
    "\n",
    "def routine(program):\n",
    "    ans = 0\n",
    "    for settings in permutations(range(5,10)):\n",
    "        args = [[s,] for s in settings]\n",
    "        comps = [computer(program.copy(), arg) for arg in args]\n",
    "        args[0].append(0)\n",
    "        try:\n",
    "            while args[0] != None:\n",
    "                args[1].append(next(comps[0]))\n",
    "                args[2].append(next(comps[1]))\n",
    "                args[3].append(next(comps[2]))\n",
    "                args[4].append(next(comps[3]))\n",
    "                args[0].append(next(comps[4]))\n",
    "        except:\n",
    "            ans = max(ans, args[0][0])\n",
    "    return ans\n",
    "routine(program)"
   ]
  }
 ],
 "metadata": {
  "kernelspec": {
   "display_name": "Python 3",
   "language": "python",
   "name": "python3"
  },
  "language_info": {
   "codemirror_mode": {
    "name": "ipython",
    "version": 3
   },
   "file_extension": ".py",
   "mimetype": "text/x-python",
   "name": "python",
   "nbconvert_exporter": "python",
   "pygments_lexer": "ipython3",
   "version": "3.7.3"
  }
 },
 "nbformat": 4,
 "nbformat_minor": 2
}
